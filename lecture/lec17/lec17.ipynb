{
 "cells": [
  {
   "cell_type": "markdown",
   "id": "b3b49008-1dff-4ddc-84c7-fd52e3fb248f",
   "metadata": {},
   "source": [
    "# Lecture 17 – Data 100, Fall 2024\n",
    "\n",
    "Data 100, Fall 2024\n",
    "\n",
    "[Acknowledgments Page](https://ds100.org/fa24/acks/)"
   ]
  },
  {
   "cell_type": "code",
   "execution_count": null,
   "id": "d411a32e-6183-4364-b735-cf241e4a7477",
   "metadata": {},
   "outputs": [],
   "source": [
    "import pandas as pd\n",
    "import numpy as np\n",
    "import plotly.express as px"
   ]
  },
  {
   "cell_type": "markdown",
   "id": "7194028a-64b6-421a-a247-8a32c6c41cfa",
   "metadata": {},
   "source": [
    "\n",
    "---\n",
    "\n",
    "## A Random Variable $X$\n",
    "\n",
    "Our probability distribution of $X$, shown as a table:"
   ]
  },
  {
   "cell_type": "code",
   "execution_count": null,
   "id": "cd8a09c3-7aff-4c20-a7e6-dc81c836c481",
   "metadata": {},
   "outputs": [],
   "source": [
    "# Our random variable X\n",
    "dist_df = pd.DataFrame({\"x\": [3, 4, 6, 8],\n",
    "                        \"P(X = x)\": [0.1, 0.2, 0.4, 0.3]})\n",
    "dist_df"
   ]
  },
  {
   "cell_type": "code",
   "execution_count": null,
   "id": "e5a72a8f-b8c2-4c3b-805c-4fe248a3aff7",
   "metadata": {},
   "outputs": [],
   "source": [
    "fig = px.bar(dist_df, x=\"x\", y=\"P(X = x)\", title=\"Distribution of X\")\n",
    "# fig.write_image(\"distX.png\", \"png\",scale=2)\n",
    "fig"
   ]
  },
  {
   "cell_type": "markdown",
   "id": "1cf640ff-21a1-41d3-8ad0-661723ef3f24",
   "metadata": {},
   "source": [
    "Let's use this probability distribution to generate a table of $X(s)$, i.e., random variable values for many many samples."
   ]
  },
  {
   "cell_type": "code",
   "execution_count": null,
   "id": "54f59b75-1915-4cf0-89c9-cb47cc2bd2bd",
   "metadata": {},
   "outputs": [],
   "source": [
    "N = 80000\n",
    "samples = np.random.choice(\n",
    "    dist_df[\"x\"], # Draw from these choiecs\n",
    "    size=N, # This many times\n",
    "    p=dist_df[\"P(X = x)\"]) # According to this distribution\n",
    "\n",
    "sim_df = pd.DataFrame({\"X(s)\": samples})\n",
    "sim_df"
   ]
  },
  {
   "cell_type": "markdown",
   "id": "1aaadf3f-2dff-4736-9a27-4bf49c1a7cd6",
   "metadata": {},
   "source": [
    "<br/><br/>\n",
    "Let's check how well this simulated sample matches our probability distribution!"
   ]
  },
  {
   "cell_type": "code",
   "execution_count": null,
   "id": "f664b4d1-22b8-4151-9214-d6c408892dda",
   "metadata": {},
   "outputs": [],
   "source": [
    "fig = px.histogram(sim_df, x=\"X(s)\", title=\"Empirical distribution of X\", \n",
    "                   histnorm=\"probability\")\n",
    "# fig.write_image(\"empirical_dist.png\", \"png\",scale=2)\n",
    "fig"
   ]
  },
  {
   "cell_type": "code",
   "execution_count": null,
   "id": "38aa5185-ea85-499b-bfdc-8b19b9bf03df",
   "metadata": {},
   "outputs": [],
   "source": [
    "print(\"Simulated E[X]:\", sim_df['X(s)'].mean())\n",
    "print(\"Simulated Var[X]:\", sim_df['X(s)'].var())"
   ]
  },
  {
   "cell_type": "code",
   "execution_count": null,
   "id": "7bca11b1-d875-4ef2-8ebd-c1c9557a9e0e",
   "metadata": {},
   "outputs": [],
   "source": [
    "E_x = dist_df[\"x\"] @ dist_df[\"P(X = x)\"]\n",
    "print(\"E[X]:\",E_x)"
   ]
  },
  {
   "cell_type": "code",
   "execution_count": null,
   "id": "763a1ef8-2435-4bdf-b082-567ec0e844b0",
   "metadata": {},
   "outputs": [],
   "source": [
    "Var_x = dist_df[\"x\"]**2 @ dist_df[\"P(X = x)\"] - E_x**2\n",
    "print(\"Var[X]:\", Var_x)"
   ]
  },
  {
   "cell_type": "markdown",
   "id": "d7ba72db-9a35-4dc4-93c2-31a187f30e80",
   "metadata": {
    "tags": []
   },
   "source": [
    "<br/><br/>\n",
    "\n",
    "---\n",
    "\n",
    "# Sum of 2 Dice Rolls\n",
    "\n",
    "Here's the distribution of a single die roll:"
   ]
  },
  {
   "cell_type": "code",
   "execution_count": null,
   "id": "9a21d743-1f24-407e-b782-f74c5633d599",
   "metadata": {
    "lines_to_next_cell": 2
   },
   "outputs": [],
   "source": [
    "roll_df = pd.DataFrame({\"x\": [1, 2, 3, 4, 5, 6],\n",
    "                        \"P(X = x)\": np.ones(6)/6})\n",
    "roll_df"
   ]
  },
  {
   "cell_type": "code",
   "execution_count": null,
   "id": "1694be9f-7549-4a16-a4db-7ab256ac0891",
   "metadata": {},
   "outputs": [],
   "source": [
    "fig = px.bar(roll_df, x=\"x\", y=\"P(X = x)\", title=\"Distribution of X\")\n",
    "# fig.write_image(\"die.png\", \"png\",scale=2)\n",
    "fig"
   ]
  },
  {
   "cell_type": "markdown",
   "id": "f44d0eba-4671-420a-93c7-3cce60c0b8c8",
   "metadata": {},
   "source": [
    "Let $X_1, X_2$ are the outcomes of two dice rolls. Note $X_1$ and $X_2$ are i.i.d. (independent and identically distributed)."
   ]
  },
  {
   "cell_type": "markdown",
   "id": "e70994a3-39b6-4813-9198-2736cbbf554f",
   "metadata": {},
   "source": [
    "Below I call a helper function `simulate_iid_df`, which simulates an 80,000-row table of $X_1, X_2$ values. It uses `np.random.choice(arr, size, p)` [link](https://numpy.org/doc/stable/reference/random/generated/numpy.random.choice.html) where `arr` is the array the values and `p` is the probability associated with choosing each value. If you're interested in the implementation details, scroll up."
   ]
  },
  {
   "cell_type": "code",
   "execution_count": null,
   "id": "ceec826e-409d-4929-b4cf-2572fd0301be",
   "metadata": {},
   "outputs": [],
   "source": [
    "N = 80000\n",
    "\n",
    "sim_rolls_df = pd.DataFrame({\n",
    "    \"X_1\": np.random.choice(roll_df[\"x\"], size = N, p = roll_df[\"P(X = x)\"]),\n",
    "    \"X_2\": np.random.choice(roll_df[\"x\"], size = N, p = roll_df[\"P(X = x)\"])\n",
    "})\n",
    "\n",
    "sim_rolls_df"
   ]
  },
  {
   "cell_type": "markdown",
   "id": "a75854f6-dd31-4b01-b5fa-c36115a467d8",
   "metadata": {},
   "source": [
    "Define the following random variables, which are functions of $X_1$ and $X_2$:\n",
    "* $Y = X_1 + X_1 = 2 X_1$\n",
    "* $Z = X_1 + X_2$\n",
    "\n",
    "We can use our simulated values of $X_1, X_2$ to create new columns $Y$ and $Z$:"
   ]
  },
  {
   "cell_type": "code",
   "execution_count": null,
   "id": "f09f6b7d-241b-4fcc-ab72-e4d15da3ea8a",
   "metadata": {},
   "outputs": [],
   "source": [
    "sim_rolls_df['Y'] = 2 * sim_rolls_df['X_1']\n",
    "sim_rolls_df['Z'] = sim_rolls_df['X_1'] + sim_rolls_df['X_2']\n",
    "sim_rolls_df"
   ]
  },
  {
   "cell_type": "markdown",
   "id": "c426ce79-473f-4189-99e4-5f1a6f7a0bc3",
   "metadata": {},
   "source": [
    "Now that we have simulated samples of $Y$ and $Z$, we can plot histograms to see their distributions!\n"
   ]
  },
  {
   "cell_type": "code",
   "execution_count": null,
   "id": "4fa29cc7-1110-46ba-8f78-04c4e797bfff",
   "metadata": {},
   "outputs": [],
   "source": [
    "px.histogram(sim_rolls_df[[\"Y\", \"Z\"]].melt(), x=\"value\", color=\"variable\", \n",
    "             barmode=\"overlay\", histnorm=\"probability\",\n",
    "             title=\"Empirical Distributions\")\n"
   ]
  },
  {
   "cell_type": "code",
   "execution_count": null,
   "id": "2e12c993-b92e-473f-b604-e918716078b5",
   "metadata": {},
   "outputs": [],
   "source": [
    "pd.DataFrame([\n",
    "    sim_rolls_df[[\"Y\", \"Z\"]].mean().rename(\"Mean\"),\n",
    "    sim_rolls_df[[\"Y\", \"Z\"]].var().rename(\"Var\"),\n",
    "    np.sqrt(sim_rolls_df[[\"Y\", \"Z\"]].var()).rename(\"SD\")\n",
    "])"
   ]
  },
  {
   "cell_type": "markdown",
   "id": "08fe565e-f5bc-48f6-a7e4-2b111f348352",
   "metadata": {
    "tags": []
   },
   "source": [
    "<br/><br/>\n",
    "\n",
    "---\n",
    "\n",
    "# Which would you pick?\n",
    "\n",
    "* $\\large Y_A = 10 X_1 + 10 X_2 $\n",
    "* $\\large Y_B = \\sum\\limits_{i=1}^{20} X_i$\n",
    "* $\\large Y_C = 20 X_1$"
   ]
  },
  {
   "cell_type": "markdown",
   "id": "45805b3b-e965-4992-99e2-4fa2233908ba",
   "metadata": {},
   "source": [
    "First let's construct the probability distribution for a single coin. This will let us flip 20 IID coins later."
   ]
  },
  {
   "cell_type": "code",
   "execution_count": null,
   "id": "95a3afac-6cf2-4aed-a302-473d94267656",
   "metadata": {},
   "outputs": [],
   "source": [
    "# First construct probability distribution for a single fair coin\n",
    "p = 0.5\n",
    "coin_df = pd.DataFrame({\"x\": [1, 0], # [Heads, Tails]\n",
    "                        \"P(X = x)\": [p, 1 - p]})\n",
    "coin_df"
   ]
  },
  {
   "cell_type": "markdown",
   "id": "a96bc5e4-47b1-4604-8e43-8a694235a170",
   "metadata": {},
   "source": [
    "## Choice A:\n",
    "$\\large Y_A = 10 X_1 + 10 X_2 $"
   ]
  },
  {
   "cell_type": "code",
   "execution_count": null,
   "id": "05ee3f27-2eeb-43d3-858e-c77c0b04d5d0",
   "metadata": {},
   "outputs": [],
   "source": [
    "N = 10000\n",
    "\n",
    "np.random.rand(N,2) < p"
   ]
  },
  {
   "cell_type": "code",
   "execution_count": null,
   "id": "07dc449b-ec09-47d1-9993-fc22c2da3ed9",
   "metadata": {},
   "outputs": [],
   "source": [
    "sim_flips = pd.DataFrame(\n",
    "    {\"Choice A\": np.sum((np.random.rand(N,2) < p) * 10, axis=1)})\n",
    "sim_flips"
   ]
  },
  {
   "cell_type": "markdown",
   "id": "96011076-1c3c-41a8-bbb6-df51348d6f8e",
   "metadata": {
    "tags": []
   },
   "source": [
    "## Choice B:\n",
    "\n",
    "$\\large Y_B = \\sum\\limits_{i=1}^{20} X_i$"
   ]
  },
  {
   "cell_type": "code",
   "execution_count": null,
   "id": "202653ab-aaa5-497e-a1d7-58bfdc22db8a",
   "metadata": {},
   "outputs": [],
   "source": [
    "sim_flips[\"Choice B\"] = np.sum((np.random.rand(N,20) < p), axis=1)\n",
    "sim_flips"
   ]
  },
  {
   "cell_type": "markdown",
   "id": "643826bd-e107-49ab-a702-2ca3d8de0ba9",
   "metadata": {
    "tags": []
   },
   "source": [
    "## Choice C:\n",
    "\n",
    "$\\large Y_C = 20 X_1$"
   ]
  },
  {
   "cell_type": "code",
   "execution_count": null,
   "id": "31a03cb8-5af4-4ce1-bc39-dd96951da7d5",
   "metadata": {},
   "outputs": [],
   "source": [
    "sim_flips[\"Choice C\"] = 20  * (np.random.rand(N,1) < p) \n",
    "sim_flips"
   ]
  },
  {
   "cell_type": "markdown",
   "id": "34170d01-b2b1-4f94-a8b5-78aec5a1b36a",
   "metadata": {},
   "source": [
    "<br/>\n",
    "If you're curious as to what these distributions look like, I've simulated some populations:"
   ]
  },
  {
   "cell_type": "code",
   "execution_count": null,
   "id": "60aa4de0-e768-46aa-b2e7-522bbcdf7aab",
   "metadata": {},
   "outputs": [],
   "source": [
    "px.histogram(sim_flips.melt(), x=\"value\", facet_row=\"variable\", \n",
    "             barmode=\"overlay\", histnorm=\"probability\",\n",
    "             title=\"Empirical Distributions\",\n",
    "             width=600, height=600)"
   ]
  },
  {
   "cell_type": "code",
   "execution_count": null,
   "id": "fd7f4570-c998-4bc1-9d29-9211c359ab58",
   "metadata": {},
   "outputs": [],
   "source": [
    "pd.DataFrame([\n",
    "    sim_flips.mean().rename(\"Mean\"),\n",
    "    sim_flips.var().rename(\"Var\"),\n",
    "    np.sqrt(sim_flips.var()).rename(\"SD\")\n",
    "])"
   ]
  },
  {
   "cell_type": "markdown",
   "id": "a88ebf7c-41e1-4607-a61e-6b6c13ba9835",
   "metadata": {},
   "source": [
    "<br/><br/><br/>\n",
    "\n",
    "---\n",
    "\n",
    "# From Population to Sample\n",
    "\n",
    "Remember the population distribution we looked at earlier:"
   ]
  },
  {
   "cell_type": "code",
   "execution_count": null,
   "id": "9d81997a-86d1-4f32-a709-590619064942",
   "metadata": {},
   "outputs": [],
   "source": [
    "dist_df"
   ]
  },
  {
   "cell_type": "code",
   "execution_count": null,
   "id": "872523a7-21ed-4003-b0cc-10c41b1d405f",
   "metadata": {},
   "outputs": [],
   "source": [
    "# A population generated from the distribution\n",
    "N = 100000\n",
    "all_samples = np.random.choice(dist_df[\"x\"], N, p=dist_df[\"P(X = x)\"])\n",
    "sim_pop_df = pd.DataFrame({\"X(s)\": all_samples})\n",
    "sim_pop_df"
   ]
  },
  {
   "cell_type": "markdown",
   "id": "45c3ad53-d2a9-416d-8a97-751e26d0041f",
   "metadata": {},
   "source": [
    "<br/><br/><br/>\n",
    "Suppose we draw a sample of size 100 from this giant population.\n",
    "\n",
    "We are performing **Random Sampling with Replacement:** `df.sample(n, replace=True)` ([link](https://pandas.pydata.org/docs/reference/api/pandas.DataFrame.sample.html))"
   ]
  },
  {
   "cell_type": "code",
   "execution_count": null,
   "id": "ad63c3b3-bc4d-4bde-ae82-03e3121806ae",
   "metadata": {},
   "outputs": [],
   "source": [
    "n = 100      # Size of our sample\n",
    "sample_df = (\n",
    "             sim_pop_df.sample(n, replace=True)\n",
    "             # Some reformatting below\n",
    "             .reset_index(drop=True)\n",
    "             .rename(columns={\"X(s)\": \"X\"})\n",
    "            )\n",
    "sample_df"
   ]
  },
  {
   "cell_type": "markdown",
   "id": "3df95301-35ba-426d-bdac-6a180c6930d9",
   "metadata": {},
   "source": [
    "Our **sample distribution** (n = 100):"
   ]
  },
  {
   "cell_type": "code",
   "execution_count": null,
   "id": "0fd0f72f-378b-47c5-813c-8fdad2c427f1",
   "metadata": {},
   "outputs": [],
   "source": [
    "px.histogram(sample_df, x=\"X\", histnorm=\"probability\", title=\"Sample (n = 100)\")"
   ]
  },
  {
   "cell_type": "markdown",
   "id": "dadbeb02-3d04-41dd-93e7-f4333a00b5d8",
   "metadata": {},
   "source": [
    "<br/>\n",
    "\n",
    "Compare this to our **original population** (N = 80,000):"
   ]
  },
  {
   "cell_type": "code",
   "execution_count": null,
   "id": "2a076885-2cb0-44d6-b390-175a39e3e576",
   "metadata": {},
   "outputs": [],
   "source": [
    "px.histogram(sim_df, x=\"X(s)\", histnorm=\"probability\", title=\"Population of X\")"
   ]
  },
  {
   "cell_type": "code",
   "execution_count": null,
   "id": "308a5876-4620-4835-8685-cf0183deed96",
   "metadata": {},
   "outputs": [],
   "source": [
    "pd.DataFrame(\n",
    "    {\"Sample\": [sample_df[\"X\"].mean(), sample_df[\"X\"].var(), np.sqrt(sample_df[\"X\"].var())],\n",
    "     \"Population\": [sim_df[\"X(s)\"].mean(), sim_df[\"X(s)\"].var(), np.sqrt(sim_df[\"X(s)\"].var())]})"
   ]
  }
 ],
 "metadata": {
  "kernelspec": {
   "display_name": "Python 3 (ipykernel)",
   "language": "python",
   "name": "python3"
  },
  "language_info": {
   "codemirror_mode": {
    "name": "ipython",
    "version": 3
   },
   "file_extension": ".py",
   "mimetype": "text/x-python",
   "name": "python",
   "nbconvert_exporter": "python",
   "pygments_lexer": "ipython3",
   "version": "3.11.9"
  }
 },
 "nbformat": 4,
 "nbformat_minor": 5
}
