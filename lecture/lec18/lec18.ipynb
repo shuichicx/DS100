{
 "cells": [
  {
   "cell_type": "markdown",
   "id": "d5fa25de-c310-4d0c-b33e-68ced6b0c21f",
   "metadata": {},
   "source": [
    "# Lecture 18 – Data 100, Fall 2024\n",
    "\n",
    "Data 100, Fall 2024\n",
    "\n",
    "[Acknowledgments Page](https://ds100.org/fa24/acks/)"
   ]
  },
  {
   "cell_type": "code",
   "execution_count": null,
   "id": "0c2ec95c-5559-41c2-a701-a229307afb39",
   "metadata": {},
   "outputs": [],
   "source": [
    "import pandas as pd\n",
    "import numpy as np\n",
    "import plotly.express as px"
   ]
  },
  {
   "cell_type": "markdown",
   "id": "e8c3d1ca-5ebb-4c37-a2b2-3546299e2795",
   "metadata": {
    "tags": []
   },
   "source": [
    "<br/><br/>\n",
    "\n",
    "---\n",
    "\n",
    "# Which would you pick?\n",
    "\n",
    "* $\\large Y_A = 10 X_1 + 10 X_2 $\n",
    "* $\\large Y_B = \\sum\\limits_{i=1}^{20} X_i$\n",
    "* $\\large Y_C = 20 X_1$"
   ]
  },
  {
   "cell_type": "markdown",
   "id": "641bfc30-c83a-4eaa-9182-99a5bd4421a7",
   "metadata": {},
   "source": [
    "First let's construct the probability distribution for a single coin. This will let us flip 20 IID coins later."
   ]
  },
  {
   "cell_type": "code",
   "execution_count": null,
   "id": "022c1217-a8d3-4e6f-bfc8-5ea6061ede8e",
   "metadata": {},
   "outputs": [],
   "source": [
    "# First construct probability distribution for a single fair coin\n",
    "p = 0.5\n",
    "coin_df = pd.DataFrame({\"x\": [1, 0], # [Heads, Tails]\n",
    "                        \"P(X = x)\": [p, 1 - p]})\n",
    "coin_df"
   ]
  },
  {
   "cell_type": "markdown",
   "id": "5911fbd9-6a5a-413c-a790-ba7a46649f69",
   "metadata": {},
   "source": [
    "## Choice A:\n",
    "$\\large Y_A = 10 X_1 + 10 X_2 $"
   ]
  },
  {
   "cell_type": "markdown",
   "id": "b76b503a-b541-45d4-8285-a66935f6be20",
   "metadata": {},
   "source": [
    "A couple ways to sample:"
   ]
  },
  {
   "cell_type": "code",
   "execution_count": null,
   "id": "18d23f9c-69d2-46b7-853b-d6fd01b947f7",
   "metadata": {},
   "outputs": [],
   "source": [
    "coin_df.sample(10, weights=\"P(X = x)\", replace=True)[\"x\"]"
   ]
  },
  {
   "cell_type": "code",
   "execution_count": null,
   "id": "dc8c8b2c-9b49-4939-bf23-6f0b900b8f7f",
   "metadata": {},
   "outputs": [],
   "source": [
    "N = 10000\n",
    "\n",
    "np.random.rand(N,2) < p"
   ]
  },
  {
   "cell_type": "code",
   "execution_count": null,
   "id": "6eb26edd-6890-4e4a-bf83-09a61dbd3896",
   "metadata": {},
   "outputs": [],
   "source": [
    "sim_flips = pd.DataFrame(\n",
    "    {\"Choice A\": np.sum((np.random.rand(N, 2) < p) * 10, axis=1)})\n",
    "sim_flips"
   ]
  },
  {
   "cell_type": "markdown",
   "id": "121d8d8b-9788-4191-a33b-66605979a8f9",
   "metadata": {
    "tags": []
   },
   "source": [
    "## Choice B:\n",
    "\n",
    "$\\large Y_B = \\sum\\limits_{i=1}^{20} X_i$"
   ]
  },
  {
   "cell_type": "code",
   "execution_count": null,
   "id": "905188fa-fb08-4254-aa66-d3d0a8c3fbf5",
   "metadata": {},
   "outputs": [],
   "source": [
    "sim_flips[\"Choice B\"] = np.sum((np.random.rand(N,20) < p), axis=1)\n",
    "sim_flips"
   ]
  },
  {
   "cell_type": "markdown",
   "id": "910caab1-6cc2-4df3-ab26-9282ad33db2b",
   "metadata": {
    "tags": []
   },
   "source": [
    "## Choice C:\n",
    "\n",
    "$\\large Y_C = 20 X_1$"
   ]
  },
  {
   "cell_type": "code",
   "execution_count": null,
   "id": "d87fa9a9-cf86-4505-a218-c590d39eaf9c",
   "metadata": {},
   "outputs": [],
   "source": [
    "sim_flips[\"Choice C\"] = 20 * (np.random.rand(N,1) < p) \n",
    "sim_flips"
   ]
  },
  {
   "cell_type": "markdown",
   "id": "5250b3cf-85d6-49c8-abe8-d4a24aa9f0bc",
   "metadata": {},
   "source": [
    "<br/>\n",
    "If you're curious as to what these distributions look like, I've simulated some populations:"
   ]
  },
  {
   "cell_type": "code",
   "execution_count": null,
   "id": "3630357d-1ef8-4641-b5fa-4174f3df978b",
   "metadata": {},
   "outputs": [],
   "source": [
    "px.histogram(sim_flips.melt(), x=\"value\", facet_row=\"variable\", \n",
    "             barmode=\"overlay\", histnorm=\"probability\",\n",
    "             title=\"Empirical Distributions\",\n",
    "             width=600, height=600)"
   ]
  },
  {
   "cell_type": "code",
   "execution_count": null,
   "id": "85483796-6761-4a75-9a8a-f14710138720",
   "metadata": {},
   "outputs": [],
   "source": [
    "pd.DataFrame([\n",
    "    sim_flips.mean().rename(\"Simulated Mean\"),\n",
    "    sim_flips.var().rename(\"Simulated Var\"),\n",
    "    np.sqrt(sim_flips.var()).rename(\"Siumulated SD\")\n",
    "])"
   ]
  },
  {
   "cell_type": "code",
   "execution_count": null,
   "id": "4a6eedc4-3fc1-4892-a499-d7a95b58b44d",
   "metadata": {},
   "outputs": [],
   "source": []
  }
 ],
 "metadata": {
  "kernelspec": {
   "display_name": "Python 3 (ipykernel)",
   "language": "python",
   "name": "python3"
  },
  "language_info": {
   "codemirror_mode": {
    "name": "ipython",
    "version": 3
   },
   "file_extension": ".py",
   "mimetype": "text/x-python",
   "name": "python",
   "nbconvert_exporter": "python",
   "pygments_lexer": "ipython3",
   "version": "3.11.9"
  }
 },
 "nbformat": 4,
 "nbformat_minor": 5
}
