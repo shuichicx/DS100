{
 "cells": [
  {
   "cell_type": "markdown",
   "id": "6c6d2b77-a7bb-41eb-ab16-3542184a7b91",
   "metadata": {},
   "source": [
    "# Lecture 24 – Data 100, Fall 2024\n",
    "\n",
    "Data 100, Fall 2024\n",
    "\n",
    "[Acknowledgments Page](https://ds100.org/fa24/acks/)"
   ]
  },
  {
   "cell_type": "code",
   "execution_count": null,
   "id": "2f1b941e-654b-42dd-9385-afe39fcde915",
   "metadata": {},
   "outputs": [],
   "source": [
    "import pandas as pd\n",
    "import numpy as np\n",
    "import scipy as sp\n",
    "import plotly.express as px\n",
    "import seaborn as sns"
   ]
  },
  {
   "cell_type": "markdown",
   "id": "8ef2b69d",
   "metadata": {},
   "source": [
    "## Working with High Dimensional Data\n",
    "\n",
    "In the following cells we will use visualization tools to push as far as we can in visualizing the MPG dataset in high-dimensional space:"
   ]
  },
  {
   "cell_type": "code",
   "execution_count": null,
   "id": "fd65834b",
   "metadata": {},
   "outputs": [],
   "source": [
    "mpg = sns.load_dataset(\"mpg\").dropna()\n",
    "mpg.head()"
   ]
  },
  {
   "cell_type": "markdown",
   "id": "e95f0c05",
   "metadata": {},
   "source": [
    "## Visualizing 1 Dimensional Data"
   ]
  },
  {
   "cell_type": "code",
   "execution_count": null,
   "id": "d39d4471",
   "metadata": {},
   "outputs": [],
   "source": [
    "px.histogram(mpg, x=\"displacement\")"
   ]
  },
  {
   "cell_type": "markdown",
   "id": "4b0d59da",
   "metadata": {},
   "source": [
    "## Visualizing 2 Dimensional Data"
   ]
  },
  {
   "cell_type": "code",
   "execution_count": null,
   "id": "6d3d077b",
   "metadata": {},
   "outputs": [],
   "source": [
    "px.scatter(mpg, x=\"displacement\", y=\"horsepower\")"
   ]
  },
  {
   "cell_type": "markdown",
   "id": "93d8f8f3",
   "metadata": {},
   "source": [
    "## Visualizing 3 Dimensional Data"
   ]
  },
  {
   "cell_type": "code",
   "execution_count": null,
   "id": "56186d74",
   "metadata": {},
   "outputs": [],
   "source": [
    "fig = px.scatter_3d(mpg, x=\"displacement\", y=\"horsepower\", z=\"weight\",\n",
    "                    width=800, height=800)\n",
    "fig.update_traces(marker=dict(size=3))"
   ]
  },
  {
   "cell_type": "markdown",
   "id": "afd23c9a",
   "metadata": {},
   "source": [
    "## Visualizing 4 Dimensional Data"
   ]
  },
  {
   "cell_type": "code",
   "execution_count": null,
   "id": "ba25ffa5",
   "metadata": {},
   "outputs": [],
   "source": [
    "fig = px.scatter_3d(mpg, x=\"displacement\", \n",
    "                    y=\"horsepower\", \n",
    "                    z=\"weight\", \n",
    "                    color=\"model_year\",\n",
    "                    width=800, height=800, \n",
    "                    opacity=.7)\n",
    "fig.update_traces(marker=dict(size=5))"
   ]
  },
  {
   "cell_type": "markdown",
   "id": "00de33a5",
   "metadata": {},
   "source": [
    "## Visualizing 6 Dimensional Data\n",
    "\n",
    "Try clicking on the origin symbols in the legend to see how the plot changes. "
   ]
  },
  {
   "cell_type": "code",
   "execution_count": null,
   "id": "030ca9c9",
   "metadata": {},
   "outputs": [],
   "source": [
    "fig = px.scatter_3d(mpg, x=\"displacement\", \n",
    "                    y=\"horsepower\", \n",
    "                    z=\"weight\", \n",
    "                    color=\"model_year\",\n",
    "                    size=\"mpg\",\n",
    "                    symbol=\"origin\",\n",
    "                    width=900, height=800, \n",
    "                    opacity=.7)\n",
    "# remove heat map legend and freeze the axes\n",
    "fig.update_layout(coloraxis_showscale=False,\n",
    "                  scene=(dict(xaxis_range=[50, 500], \n",
    "                              yaxis_range=[40, 250], \n",
    "                              zaxis_range=[1000, 5000])))\n"
   ]
  },
  {
   "cell_type": "markdown",
   "id": "c0ca8641",
   "metadata": {},
   "source": [
    "Visualizing data in high-dimensional space is challenging. In general, the plots we made here can be sometimes helpful for interactive visualizations but can be difficult to interpret in a static form.\n"
   ]
  },
  {
   "cell_type": "markdown",
   "id": "1a533ba0",
   "metadata": {},
   "source": [
    "### Dimensionality Reduction \n",
    "\n",
    "One common approach to visualizing high-dimensional data is to use dimensionality reduction techniques. These techniques aim to find a lower-dimensional representation of the data that captures the most important information."
   ]
  },
  {
   "cell_type": "code",
   "execution_count": null,
   "id": "364d42e7",
   "metadata": {},
   "outputs": [],
   "source": [
    "from sklearn.decomposition import PCA\n",
    "pca = PCA(n_components=2,)\n",
    "\n",
    "X = pd.get_dummies(mpg[[\"displacement\", \"horsepower\", \"weight\", \"model_year\", \"origin\", \"mpg\"]])\n",
    "zs = pca.fit_transform(X)\n",
    "mpg[[\"z1\", \"z2\"]] = zs\n",
    "mpg.head()"
   ]
  },
  {
   "cell_type": "code",
   "execution_count": null,
   "id": "813bde71",
   "metadata": {},
   "outputs": [],
   "source": [
    "fig = px.scatter(mpg, x=\"z1\", y=\"z2\", color=\"model_year\", symbol=\"origin\", \n",
    "                 hover_data=[\"displacement\", \"horsepower\", \"weight\", \"name\"])\n",
    "fig.update_layout(legend=dict(x=.92, y=1), xaxis_range=[-1500, 2500], yaxis_range=[-200, 300])"
   ]
  },
  {
   "cell_type": "markdown",
   "id": "60199f2e",
   "metadata": {},
   "source": [
    "<br><br>\n",
    "\n",
    "**Return to lecture.**\n",
    "\n",
    "<br><br>"
   ]
  }
 ],
 "metadata": {
  "kernelspec": {
   "display_name": "Python 3 (ipykernel)",
   "language": "python",
   "name": "python3"
  },
  "language_info": {
   "codemirror_mode": {
    "name": "ipython",
    "version": 3
   },
   "file_extension": ".py",
   "mimetype": "text/x-python",
   "name": "python",
   "nbconvert_exporter": "python",
   "pygments_lexer": "ipython3",
   "version": "3.11.9"
  }
 },
 "nbformat": 4,
 "nbformat_minor": 5
}
